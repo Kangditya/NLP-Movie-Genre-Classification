{
 "cells": [
  {
   "cell_type": "markdown",
   "metadata": {
    "id": "kNNwYg8_M5Fd"
   },
   "source": [
    "###Import Library yang dibutuhkan"
   ]
  },
  {
   "cell_type": "code",
   "execution_count": 1,
   "metadata": {
    "id": "C5qVpCqy2hwc"
   },
   "outputs": [],
   "source": [
    "import numpy as np\n",
    "import pandas as pd\n",
    "import matplotlib.pyplot as plt\n",
    "import re\n",
    "#split library\n",
    "from sklearn.model_selection import train_test_split\n",
    "\n",
    "#tensorflow library\n",
    "import tensorflow as tf\n",
    "from tensorflow.keras.preprocessing.text import Tokenizer\n",
    "from tensorflow.keras.preprocessing.sequence import pad_sequences"
   ]
  },
  {
   "cell_type": "markdown",
   "metadata": {
    "id": "-ntJsIXtIAqA"
   },
   "source": [
    "###Dataset Movie Genre"
   ]
  },
  {
   "cell_type": "markdown",
   "metadata": {
    "id": "CCKFJKjSZbW7"
   },
   "source": [
    "#### Menggunakan dataset movie genre dari kaggle\n",
    "https://www.kaggle.com/lokkagle/movie-genre-data"
   ]
  },
  {
   "cell_type": "code",
   "execution_count": 2,
   "metadata": {
    "colab": {
     "base_uri": "https://localhost:8080/",
     "height": 419
    },
    "id": "DaC7vQ06IFg9",
    "outputId": "b9906109-1abb-4d92-b197-97a9ae13674e"
   },
   "outputs": [
    {
     "data": {
      "text/html": [
       "<div>\n",
       "<style scoped>\n",
       "    .dataframe tbody tr th:only-of-type {\n",
       "        vertical-align: middle;\n",
       "    }\n",
       "\n",
       "    .dataframe tbody tr th {\n",
       "        vertical-align: top;\n",
       "    }\n",
       "\n",
       "    .dataframe thead th {\n",
       "        text-align: right;\n",
       "    }\n",
       "</style>\n",
       "<table border=\"1\" class=\"dataframe\">\n",
       "  <thead>\n",
       "    <tr style=\"text-align: right;\">\n",
       "      <th></th>\n",
       "      <th>id</th>\n",
       "      <th>text</th>\n",
       "      <th>genre</th>\n",
       "    </tr>\n",
       "  </thead>\n",
       "  <tbody>\n",
       "    <tr>\n",
       "      <th>0</th>\n",
       "      <td>0</td>\n",
       "      <td>eady dead, maybe even wishing he was. INT. 2ND...</td>\n",
       "      <td>thriller</td>\n",
       "    </tr>\n",
       "    <tr>\n",
       "      <th>1</th>\n",
       "      <td>2</td>\n",
       "      <td>t, summa cum laude and all. And I'm about to l...</td>\n",
       "      <td>comedy</td>\n",
       "    </tr>\n",
       "    <tr>\n",
       "      <th>2</th>\n",
       "      <td>3</td>\n",
       "      <td>up Come, I have a surprise.... She takes him ...</td>\n",
       "      <td>drama</td>\n",
       "    </tr>\n",
       "    <tr>\n",
       "      <th>3</th>\n",
       "      <td>4</td>\n",
       "      <td>ded by the two detectives. INT. JEFF'S APARTME...</td>\n",
       "      <td>thriller</td>\n",
       "    </tr>\n",
       "    <tr>\n",
       "      <th>4</th>\n",
       "      <td>5</td>\n",
       "      <td>nd dismounts, just as the other children reach...</td>\n",
       "      <td>drama</td>\n",
       "    </tr>\n",
       "    <tr>\n",
       "      <th>...</th>\n",
       "      <td>...</td>\n",
       "      <td>...</td>\n",
       "      <td>...</td>\n",
       "    </tr>\n",
       "    <tr>\n",
       "      <th>22574</th>\n",
       "      <td>28161</td>\n",
       "      <td>n in the world to decide what I'm going to do ...</td>\n",
       "      <td>drama</td>\n",
       "    </tr>\n",
       "    <tr>\n",
       "      <th>22575</th>\n",
       "      <td>28162</td>\n",
       "      <td>shards. BOJO LAZ! Laz pushes Deke back through...</td>\n",
       "      <td>drama</td>\n",
       "    </tr>\n",
       "    <tr>\n",
       "      <th>22576</th>\n",
       "      <td>28163</td>\n",
       "      <td>OTTIE You've got a thing about Ernie's, haven'...</td>\n",
       "      <td>thriller</td>\n",
       "    </tr>\n",
       "    <tr>\n",
       "      <th>22577</th>\n",
       "      <td>28165</td>\n",
       "      <td>....with marked skill and dexterity . LANA wry...</td>\n",
       "      <td>action</td>\n",
       "    </tr>\n",
       "    <tr>\n",
       "      <th>22578</th>\n",
       "      <td>28166</td>\n",
       "      <td>rd walks off down the hallway, leaving his pos...</td>\n",
       "      <td>comedy</td>\n",
       "    </tr>\n",
       "  </tbody>\n",
       "</table>\n",
       "<p>22579 rows × 3 columns</p>\n",
       "</div>"
      ],
      "text/plain": [
       "          id                                               text     genre\n",
       "0          0  eady dead, maybe even wishing he was. INT. 2ND...  thriller\n",
       "1          2  t, summa cum laude and all. And I'm about to l...    comedy\n",
       "2          3   up Come, I have a surprise.... She takes him ...     drama\n",
       "3          4  ded by the two detectives. INT. JEFF'S APARTME...  thriller\n",
       "4          5  nd dismounts, just as the other children reach...     drama\n",
       "...      ...                                                ...       ...\n",
       "22574  28161  n in the world to decide what I'm going to do ...     drama\n",
       "22575  28162  shards. BOJO LAZ! Laz pushes Deke back through...     drama\n",
       "22576  28163  OTTIE You've got a thing about Ernie's, haven'...  thriller\n",
       "22577  28165  ....with marked skill and dexterity . LANA wry...    action\n",
       "22578  28166  rd walks off down the hallway, leaving his pos...    comedy\n",
       "\n",
       "[22579 rows x 3 columns]"
      ]
     },
     "execution_count": 2,
     "metadata": {
      "tags": []
     },
     "output_type": "execute_result"
    }
   ],
   "source": [
    "df = pd.read_csv('/content/kaggle_movie_train.csv')\n",
    "df"
   ]
  },
  {
   "cell_type": "code",
   "execution_count": 3,
   "metadata": {
    "colab": {
     "base_uri": "https://localhost:8080/"
    },
    "id": "UNZCr3BAIb54",
    "outputId": "55af2728-189d-42ca-c2fb-cd954dbb3a8c"
   },
   "outputs": [
    {
     "data": {
      "text/plain": [
       "drama        8873\n",
       "thriller     6824\n",
       "comedy       2941\n",
       "action       2392\n",
       "sci-fi        613\n",
       "horror        456\n",
       "other         270\n",
       "adventure     147\n",
       "romance        63\n",
       "Name: genre, dtype: int64"
      ]
     },
     "execution_count": 3,
     "metadata": {
      "tags": []
     },
     "output_type": "execute_result"
    }
   ],
   "source": [
    "df['genre'].value_counts()"
   ]
  },
  {
   "cell_type": "markdown",
   "metadata": {
    "id": "6Gkb5u76ZnYJ"
   },
   "source": [
    "Memilih 4 Genre sebagai label"
   ]
  },
  {
   "cell_type": "code",
   "execution_count": 4,
   "metadata": {
    "colab": {
     "base_uri": "https://localhost:8080/"
    },
    "id": "cEQE8Rr5I3o2",
    "outputId": "8e0d4143-614f-43f1-d80f-4a6944a8fc22"
   },
   "outputs": [
    {
     "data": {
      "text/plain": [
       "comedy    2941\n",
       "action    2392\n",
       "sci-fi     613\n",
       "horror     456\n",
       "Name: genre, dtype: int64"
      ]
     },
     "execution_count": 4,
     "metadata": {
      "tags": []
     },
     "output_type": "execute_result"
    }
   ],
   "source": [
    "df = df[~df['genre'].isin(['drama','thriller','other','adventure','romance'])]\n",
    "df['genre'].value_counts()"
   ]
  },
  {
   "cell_type": "markdown",
   "metadata": {
    "id": "M0XpPZbcZi0q"
   },
   "source": [
    "### Data Processing"
   ]
  },
  {
   "cell_type": "code",
   "execution_count": 5,
   "metadata": {
    "colab": {
     "base_uri": "https://localhost:8080/",
     "height": 306
    },
    "id": "oPlVrG7sJEKg",
    "outputId": "a2c53040-0050-42d3-f273-9285d8ce0435"
   },
   "outputs": [
    {
     "name": "stderr",
     "output_type": "stream",
     "text": [
      "/usr/local/lib/python3.7/dist-packages/ipykernel_launcher.py:1: SettingWithCopyWarning: \n",
      "A value is trying to be set on a copy of a slice from a DataFrame.\n",
      "Try using .loc[row_indexer,col_indexer] = value instead\n",
      "\n",
      "See the caveats in the documentation: https://pandas.pydata.org/pandas-docs/stable/user_guide/indexing.html#returning-a-view-versus-a-copy\n",
      "  \"\"\"Entry point for launching an IPython kernel.\n"
     ]
    },
    {
     "data": {
      "text/html": [
       "<div>\n",
       "<style scoped>\n",
       "    .dataframe tbody tr th:only-of-type {\n",
       "        vertical-align: middle;\n",
       "    }\n",
       "\n",
       "    .dataframe tbody tr th {\n",
       "        vertical-align: top;\n",
       "    }\n",
       "\n",
       "    .dataframe thead th {\n",
       "        text-align: right;\n",
       "    }\n",
       "</style>\n",
       "<table border=\"1\" class=\"dataframe\">\n",
       "  <thead>\n",
       "    <tr style=\"text-align: right;\">\n",
       "      <th></th>\n",
       "      <th>genre</th>\n",
       "      <th>Text</th>\n",
       "    </tr>\n",
       "  </thead>\n",
       "  <tbody>\n",
       "    <tr>\n",
       "      <th>1</th>\n",
       "      <td>comedy</td>\n",
       "      <td>t summa cum laude and all And I m about to lau...</td>\n",
       "    </tr>\n",
       "    <tr>\n",
       "      <th>9</th>\n",
       "      <td>action</td>\n",
       "      <td>e reels as the world spins Sweat pours off him...</td>\n",
       "    </tr>\n",
       "    <tr>\n",
       "      <th>20</th>\n",
       "      <td>comedy</td>\n",
       "      <td>I say he s a man who ll go far Some people sa...</td>\n",
       "    </tr>\n",
       "    <tr>\n",
       "      <th>25</th>\n",
       "      <td>comedy</td>\n",
       "      <td>you find out where the bachelor party is COLE ...</td>\n",
       "    </tr>\n",
       "    <tr>\n",
       "      <th>29</th>\n",
       "      <td>comedy</td>\n",
       "      <td>ibly horrendous public break up on the quad Ag...</td>\n",
       "    </tr>\n",
       "  </tbody>\n",
       "</table>\n",
       "</div>"
      ],
      "text/plain": [
       "     genre                                               Text\n",
       "1   comedy  t summa cum laude and all And I m about to lau...\n",
       "9   action  e reels as the world spins Sweat pours off him...\n",
       "20  comedy   I say he s a man who ll go far Some people sa...\n",
       "25  comedy  you find out where the bachelor party is COLE ...\n",
       "29  comedy  ibly horrendous public break up on the quad Ag..."
      ]
     },
     "execution_count": 5,
     "metadata": {
      "tags": []
     },
     "output_type": "execute_result"
    }
   ],
   "source": [
    "df['Text'] = df['text'].map(lambda x: re.sub(r'\\W+', ' ', x))\n",
    "# drop kolom id dan text lama\n",
    "df = df.drop(['id', 'text'], axis=1)\n",
    "df.head()"
   ]
  },
  {
   "cell_type": "code",
   "execution_count": 6,
   "metadata": {
    "colab": {
     "base_uri": "https://localhost:8080/",
     "height": 204
    },
    "id": "ykPAllPwJJ7T",
    "outputId": "896f3dc1-1cca-4f2f-f092-325d99d30dc7"
   },
   "outputs": [
    {
     "data": {
      "text/html": [
       "<div>\n",
       "<style scoped>\n",
       "    .dataframe tbody tr th:only-of-type {\n",
       "        vertical-align: middle;\n",
       "    }\n",
       "\n",
       "    .dataframe tbody tr th {\n",
       "        vertical-align: top;\n",
       "    }\n",
       "\n",
       "    .dataframe thead th {\n",
       "        text-align: right;\n",
       "    }\n",
       "</style>\n",
       "<table border=\"1\" class=\"dataframe\">\n",
       "  <thead>\n",
       "    <tr style=\"text-align: right;\">\n",
       "      <th></th>\n",
       "      <th>Text</th>\n",
       "      <th>action</th>\n",
       "      <th>comedy</th>\n",
       "      <th>horror</th>\n",
       "      <th>sci-fi</th>\n",
       "    </tr>\n",
       "  </thead>\n",
       "  <tbody>\n",
       "    <tr>\n",
       "      <th>1</th>\n",
       "      <td>t summa cum laude and all And I m about to lau...</td>\n",
       "      <td>0</td>\n",
       "      <td>1</td>\n",
       "      <td>0</td>\n",
       "      <td>0</td>\n",
       "    </tr>\n",
       "    <tr>\n",
       "      <th>9</th>\n",
       "      <td>e reels as the world spins Sweat pours off him...</td>\n",
       "      <td>1</td>\n",
       "      <td>0</td>\n",
       "      <td>0</td>\n",
       "      <td>0</td>\n",
       "    </tr>\n",
       "    <tr>\n",
       "      <th>20</th>\n",
       "      <td>I say he s a man who ll go far Some people sa...</td>\n",
       "      <td>0</td>\n",
       "      <td>1</td>\n",
       "      <td>0</td>\n",
       "      <td>0</td>\n",
       "    </tr>\n",
       "    <tr>\n",
       "      <th>25</th>\n",
       "      <td>you find out where the bachelor party is COLE ...</td>\n",
       "      <td>0</td>\n",
       "      <td>1</td>\n",
       "      <td>0</td>\n",
       "      <td>0</td>\n",
       "    </tr>\n",
       "    <tr>\n",
       "      <th>29</th>\n",
       "      <td>ibly horrendous public break up on the quad Ag...</td>\n",
       "      <td>0</td>\n",
       "      <td>1</td>\n",
       "      <td>0</td>\n",
       "      <td>0</td>\n",
       "    </tr>\n",
       "  </tbody>\n",
       "</table>\n",
       "</div>"
      ],
      "text/plain": [
       "                                                 Text  action  ...  horror  sci-fi\n",
       "1   t summa cum laude and all And I m about to lau...       0  ...       0       0\n",
       "9   e reels as the world spins Sweat pours off him...       1  ...       0       0\n",
       "20   I say he s a man who ll go far Some people sa...       0  ...       0       0\n",
       "25  you find out where the bachelor party is COLE ...       0  ...       0       0\n",
       "29  ibly horrendous public break up on the quad Ag...       0  ...       0       0\n",
       "\n",
       "[5 rows x 5 columns]"
      ]
     },
     "execution_count": 6,
     "metadata": {
      "tags": []
     },
     "output_type": "execute_result"
    }
   ],
   "source": [
    "genre = pd.get_dummies(df.genre)\n",
    "df_genre = pd.concat([df, genre], axis=1)\n",
    "df_genre = df_genre.drop(columns='genre')\n",
    "df_genre.head()"
   ]
  },
  {
   "cell_type": "code",
   "execution_count": 7,
   "metadata": {
    "id": "4llJqytfJNqZ"
   },
   "outputs": [],
   "source": [
    "text = df_genre['Text'].astype(str)\n",
    "label = df_genre[['action', 'comedy','horror','sci-fi']].values"
   ]
  },
  {
   "cell_type": "markdown",
   "metadata": {
    "id": "VjAQISeKHxYG"
   },
   "source": [
    "###Tokenizer and Modelling"
   ]
  },
  {
   "cell_type": "markdown",
   "metadata": {
    "id": "Fa53TeofZxjX"
   },
   "source": [
    "split data untuk train dan test dengan 20% test_size"
   ]
  },
  {
   "cell_type": "code",
   "execution_count": 8,
   "metadata": {
    "id": "dfeugBQeJXor"
   },
   "outputs": [],
   "source": [
    "genre_train, genre_test, label_train, label_test = train_test_split(text, label, test_size = 0.2)"
   ]
  },
  {
   "cell_type": "code",
   "execution_count": 9,
   "metadata": {
    "id": "0kDOlXnA3XV4"
   },
   "outputs": [],
   "source": [
    "tokenizer = Tokenizer(num_words=5000, oov_token='x')\n",
    "tokenizer.fit_on_texts(genre_train)\n",
    "tokenizer.fit_on_texts(genre_test)"
   ]
  },
  {
   "cell_type": "code",
   "execution_count": 10,
   "metadata": {
    "id": "pb5pyi2X3atf"
   },
   "outputs": [],
   "source": [
    "seq_train = tokenizer.texts_to_sequences(genre_train)\n",
    "seq_test = tokenizer.texts_to_sequences(genre_test)"
   ]
  },
  {
   "cell_type": "code",
   "execution_count": 11,
   "metadata": {
    "id": "KgsOK4-_3c7S"
   },
   "outputs": [],
   "source": [
    "pad_train = pad_sequences(seq_train)\n",
    "pad_test = pad_sequences(seq_test)"
   ]
  },
  {
   "cell_type": "markdown",
   "metadata": {
    "id": "mBjbU_meZ6P7"
   },
   "source": [
    "membuat model NLP"
   ]
  },
  {
   "cell_type": "code",
   "execution_count": 12,
   "metadata": {
    "id": "SlKjrnjJ3e9X"
   },
   "outputs": [],
   "source": [
    "from tensorflow.keras.optimizers import Adam\n",
    "\n",
    "model = tf.keras.Sequential([\n",
    "    tf.keras.layers.Embedding(input_dim=5000, output_dim=16),\n",
    "    tf.keras.layers.LSTM(64),\n",
    "    # tf.keras.layers.Bidirectional(tf.keras.layers.LSTM(64, return_sequences=True)),\n",
    "    # tf.keras.layers.Bidirectional(tf.keras.layers.LSTM(32)),\n",
    "    tf.keras.layers.Dense(128, activation='relu'),\n",
    "    # tf.keras.layers.Dense(64, activation='relu'),\n",
    "    tf.keras.layers.Dropout(0.5),\n",
    "    tf.keras.layers.Dense(4, activation='softmax'),\n",
    "])\n",
    "\n",
    "Adam(learning_rate=0.00256, name='Adam')\n",
    "model.compile(loss='categorical_crossentropy',optimizer='adam',metrics=['accuracy'])"
   ]
  },
  {
   "cell_type": "code",
   "execution_count": 13,
   "metadata": {
    "colab": {
     "base_uri": "https://localhost:8080/"
    },
    "id": "aaGvoBQW7xOb",
    "outputId": "a80bba32-ef20-462b-a1cb-137fd974eeb9"
   },
   "outputs": [
    {
     "name": "stdout",
     "output_type": "stream",
     "text": [
      "Model: \"sequential\"\n",
      "_________________________________________________________________\n",
      "Layer (type)                 Output Shape              Param #   \n",
      "=================================================================\n",
      "embedding (Embedding)        (None, None, 16)          80000     \n",
      "_________________________________________________________________\n",
      "lstm (LSTM)                  (None, 64)                20736     \n",
      "_________________________________________________________________\n",
      "dense (Dense)                (None, 128)               8320      \n",
      "_________________________________________________________________\n",
      "dropout (Dropout)            (None, 128)               0         \n",
      "_________________________________________________________________\n",
      "dense_1 (Dense)              (None, 4)                 516       \n",
      "=================================================================\n",
      "Total params: 109,572\n",
      "Trainable params: 109,572\n",
      "Non-trainable params: 0\n",
      "_________________________________________________________________\n",
      "None\n"
     ]
    }
   ],
   "source": [
    "print(model.summary())"
   ]
  },
  {
   "cell_type": "code",
   "execution_count": 14,
   "metadata": {
    "id": "hM4vePgg3hl7"
   },
   "outputs": [],
   "source": [
    "class myCallback(tf.keras.callbacks.Callback):\n",
    "    def on_epoch_end(self, epoch, logs={}):\n",
    "      if(logs.get('accuracy')>0.925 and logs.get('val_accuracy')>0.9):\n",
    "        print(\"\\nAkurasi telah mencapai >92.5%! dan validasi akurasi >90%\")\n",
    "        self.model.stop_training = True\n",
    "callbacks = myCallback()"
   ]
  },
  {
   "cell_type": "code",
   "execution_count": 18,
   "metadata": {
    "colab": {
     "base_uri": "https://localhost:8080/"
    },
    "id": "HQk3qFr_3jtR",
    "outputId": "8c95f654-3e55-431e-8328-4aa752176258"
   },
   "outputs": [
    {
     "name": "stdout",
     "output_type": "stream",
     "text": [
      "Epoch 1/30\n",
      "161/161 - 22s - loss: 1.0735e-04 - accuracy: 1.0000 - val_loss: 0.9698 - val_accuracy: 0.8907\n",
      "Epoch 2/30\n",
      "161/161 - 22s - loss: 0.2227 - accuracy: 0.9256 - val_loss: 0.8158 - val_accuracy: 0.8158\n",
      "Epoch 3/30\n",
      "161/161 - 22s - loss: 0.0643 - accuracy: 0.9772 - val_loss: 0.5964 - val_accuracy: 0.8540\n",
      "Epoch 4/30\n",
      "161/161 - 22s - loss: 0.0386 - accuracy: 0.9904 - val_loss: 0.6158 - val_accuracy: 0.8759\n",
      "Epoch 5/30\n",
      "161/161 - 22s - loss: 0.0168 - accuracy: 0.9953 - val_loss: 0.6934 - val_accuracy: 0.8689\n",
      "Epoch 6/30\n",
      "161/161 - 22s - loss: 0.0110 - accuracy: 0.9975 - val_loss: 0.8152 - val_accuracy: 0.8899\n",
      "Epoch 7/30\n",
      "161/161 - 22s - loss: 0.0144 - accuracy: 0.9967 - val_loss: 0.7133 - val_accuracy: 0.8728\n",
      "Epoch 8/30\n",
      "161/161 - 22s - loss: 0.0107 - accuracy: 0.9975 - val_loss: 0.8025 - val_accuracy: 0.8743\n",
      "Epoch 9/30\n",
      "161/161 - 22s - loss: 0.0032 - accuracy: 0.9988 - val_loss: 0.8073 - val_accuracy: 0.8759\n",
      "Epoch 10/30\n",
      "161/161 - 22s - loss: 0.0916 - accuracy: 0.9744 - val_loss: 1.0045 - val_accuracy: 0.7034\n",
      "Epoch 11/30\n",
      "161/161 - 21s - loss: 0.0807 - accuracy: 0.9721 - val_loss: 0.7292 - val_accuracy: 0.8649\n",
      "Epoch 12/30\n",
      "161/161 - 22s - loss: 0.0155 - accuracy: 0.9969 - val_loss: 0.7246 - val_accuracy: 0.8759\n",
      "Epoch 13/30\n",
      "161/161 - 22s - loss: 0.0027 - accuracy: 1.0000 - val_loss: 0.7260 - val_accuracy: 0.8821\n",
      "Epoch 14/30\n",
      "161/161 - 22s - loss: 0.0023 - accuracy: 0.9998 - val_loss: 0.7536 - val_accuracy: 0.8962\n",
      "Epoch 15/30\n",
      "161/161 - 22s - loss: 6.9488e-04 - accuracy: 1.0000 - val_loss: 0.7979 - val_accuracy: 0.9016\n",
      "\n",
      "Akurasi telah mencapai >92.5%! dan validasi akurasi >90%\n"
     ]
    }
   ],
   "source": [
    "num_epochs=30\n",
    "history = model.fit(pad_train, label_train, epochs=num_epochs,\n",
    "                    validation_data=(pad_test, label_test), verbose=2, callbacks=[callbacks])"
   ]
  },
  {
   "cell_type": "code",
   "execution_count": 19,
   "metadata": {
    "id": "J765R5GyTLcq"
   },
   "outputs": [],
   "source": [
    "acc = history.history['accuracy']\n",
    "val_acc = history.history['val_accuracy']\n",
    "\n",
    "loss = history.history['loss']\n",
    "val_loss = history.history['val_loss']"
   ]
  },
  {
   "cell_type": "code",
   "execution_count": 20,
   "metadata": {
    "colab": {
     "base_uri": "https://localhost:8080/",
     "height": 513
    },
    "id": "4raq6HBM3mDQ",
    "outputId": "f59eb56f-a0ca-451f-9df2-0b921745574e"
   },
   "outputs": [
    {
     "data": {
      "image/png": "[encoded data removed]",
      "text/plain": [
       "<Figure size 432x288 with 1 Axes>"
      ]
     },
     "metadata": {
      "needs_background": "light",
      "tags": []
     },
     "output_type": "display_data"
    },
    {
     "data": {
      "image/png": "[encoded data removed]",
      "text/plain": [
       "<Figure size 432x288 with 1 Axes>"
      ]
     },
     "metadata": {
      "needs_background": "light",
      "tags": []
     },
     "output_type": "display_data"
    }
   ],
   "source": [
    "epochs = range(len(acc))\n",
    "\n",
    "plt.plot(epochs, acc,'b',label='training acc')\n",
    "plt.plot(epochs, val_acc, 'r', label='validation acc')\n",
    "plt.legend()\n",
    "plt.show()\n",
    "\n",
    "\n",
    "plt.plot(epochs, loss,'b',label='training loss')\n",
    "plt.plot(epochs, val_loss, 'r', label='validation loss')\n",
    "plt.legend()\n",
    "plt.show()"
   ]
  }
 ],
 "metadata": {
  "colab": {
   "collapsed_sections": [],
   "name": "SubmissionNLP_Aditya_Nurahya2.0",
   "provenance": [],
   "toc_visible": true
  },
  "kernelspec": {
   "display_name": "Python 3",
   "language": "python",
   "name": "python3"
  },
  "language_info": {
   "codemirror_mode": {
    "name": "ipython",
    "version": 3
   },
   "file_extension": ".py",
   "mimetype": "text/x-python",
   "name": "python",
   "nbconvert_exporter": "python",
   "pygments_lexer": "ipython3",
   "version": "3.7.6"
  }
 },
 "nbformat": 4,
 "nbformat_minor": 1
}
